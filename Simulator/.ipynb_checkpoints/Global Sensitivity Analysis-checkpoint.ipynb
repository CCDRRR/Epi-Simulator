{
 "cells": [
  {
   "cell_type": "code",
   "execution_count": 5,
   "id": "b7fd9d6a-63eb-44f4-a28f-8221fbd9226d",
   "metadata": {},
   "outputs": [
    {
     "ename": "ModuleNotFoundError",
     "evalue": "No module named 'Environment'",
     "output_type": "error",
     "traceback": [
      "Traceback \u001b[1;36m(most recent call last)\u001b[0m:\n",
      "\u001b[1;36m  Cell \u001b[1;32mIn[5], line 6\u001b[1;36m\n\u001b[1;33m    from Environment import SIERDModel\u001b[1;36m\n",
      "\u001b[1;31mModuleNotFoundError\u001b[0m\u001b[1;31m:\u001b[0m No module named 'Environment'\n"
     ]
    }
   ],
   "source": [
    "from SALib.sample import saltelli\n",
    "from SALib.analyze import sobol\n",
    "import pandas as pd\n",
    "import numpy as np\n",
    "import matplotlib.pyplot as plt\n",
    "from Environment import SIERDModel\n",
    "\n",
    "# Define the problem\n",
    "problem = {\n",
    "    'num_vars': 4,\n",
    "    'names': ['transmission_rate', 'latency_period', 'infection_duration', 'recovery_rate'],\n",
    "    'bounds': [[0.1, 1.0],    # transmission_rate range\n",
    "               [10, 70],     # latency_period range\n",
    "               [10, 70],     # infection_duration range\n",
    "               [0.1, 1.0]]   # recovery_rate range\n",
    "}\n",
    "\n",
    "# Generate parameter samples\n",
    "param_values = saltelli.sample(problem, 100)\n",
    "\n",
    "# Define the simulation function\n",
    "def run_sobol_simulation(param_values, width, height, density, policy, num_districts, initial_infected, steps):\n",
    "    results = []\n",
    "\n",
    "    for params in param_values:\n",
    "        transmission_rate, latency_period, infection_duration, recovery_rate = params\n",
    "        model = SIERDModel(width, height, density, transmission_rate, latency_period, infection_duration, recovery_rate, policy, num_districts, initial_infected)\n",
    "        \n",
    "        for _ in range(steps):\n",
    "            model.step()\n",
    "\n",
    "        result = model.datacollector.get_model_vars_dataframe()\n",
    "        results.append(result)\n",
    "    \n",
    "    return results\n",
    "\n",
    "# Simulation parameters\n",
    "width = 10\n",
    "height = 10\n",
    "density = 0.8\n",
    "policy = \"No Interventions\"\n",
    "num_districts = 5\n",
    "initial_infected = 50\n",
    "steps = 100\n",
    "\n",
    "# Run the simulations\n",
    "results = run_sobol_simulation(param_values, width, height, density, policy, num_districts, initial_infected, steps)\n",
    "\n",
    "# Extract output data for Sobol analysis\n",
    "Y = [result['Infected'].mean() for result in results]\n",
    "\n",
    "# Perform Sobol sensitivity analysis\n",
    "Si = sobol.analyze(problem, np.array(Y), print_to_console=True)\n",
    "\n",
    "# Plot first-order sensitivity indices\n",
    "plt.figure()\n",
    "plt.bar(problem['names'], Si['S1'])\n",
    "plt.xlabel('Parameter')\n",
    "plt.ylabel('First-order sensitivity index')\n",
    "plt.title('First-order Sensitivity')\n",
    "plt.show()\n",
    "\n",
    "# Plot total-order sensitivity indices\n",
    "plt.figure()\n",
    "plt.bar(problem['names'], Si['ST'])\n",
    "plt.xlabel('Parameter')\n",
    "plt.ylabel('Total-order sensitivity index')\n",
    "plt.title('Total-order Sensitivity')\n",
    "plt.show()"
   ]
  }
 ],
 "metadata": {
  "kernelspec": {
   "display_name": "Python 3 (Spyder)",
   "language": "python3",
   "name": "python3"
  },
  "language_info": {
   "codemirror_mode": {
    "name": "ipython",
    "version": 3
   },
   "file_extension": ".py",
   "mimetype": "text/x-python",
   "name": "python",
   "nbconvert_exporter": "python",
   "pygments_lexer": "ipython3",
   "version": "3.8.19"
  }
 },
 "nbformat": 4,
 "nbformat_minor": 5
}
