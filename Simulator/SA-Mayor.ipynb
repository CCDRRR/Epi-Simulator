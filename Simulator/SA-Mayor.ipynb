{
 "cells": [
  {
   "cell_type": "code",
   "id": "889898d3",
   "metadata": {
    "ExecuteTime": {
     "end_time": "2024-06-21T21:38:13.494259Z",
     "start_time": "2024-06-21T21:38:04.148551Z"
    }
   },
   "source": [
    "pip install mesa==0.8.7"
   ],
   "outputs": [
    {
     "name": "stdout",
     "output_type": "stream",
     "text": [
      "Requirement already satisfied: mesa==0.8.7 in c:\\programdata\\anaconda3\\lib\\site-packages (0.8.7)Note: you may need to restart the kernel to use updated packages.\n",
      "\n",
      "Requirement already satisfied: click in c:\\programdata\\anaconda3\\lib\\site-packages (from mesa==0.8.7) (8.0.4)\n",
      "Requirement already satisfied: cookiecutter in c:\\programdata\\anaconda3\\lib\\site-packages (from mesa==0.8.7) (1.7.3)\n",
      "Requirement already satisfied: networkx in c:\\programdata\\anaconda3\\lib\\site-packages (from mesa==0.8.7) (3.1)\n",
      "Requirement already satisfied: numpy in c:\\programdata\\anaconda3\\lib\\site-packages (from mesa==0.8.7) (1.24.3)\n",
      "Requirement already satisfied: pandas in c:\\programdata\\anaconda3\\lib\\site-packages (from mesa==0.8.7) (2.0.3)\n",
      "Requirement already satisfied: tornado in c:\\programdata\\anaconda3\\lib\\site-packages (from mesa==0.8.7) (6.3.2)\n",
      "Requirement already satisfied: tqdm in c:\\programdata\\anaconda3\\lib\\site-packages (from mesa==0.8.7) (4.65.0)\n",
      "Requirement already satisfied: colorama in c:\\programdata\\anaconda3\\lib\\site-packages (from click->mesa==0.8.7) (0.4.6)\n",
      "Requirement already satisfied: binaryornot>=0.4.4 in c:\\programdata\\anaconda3\\lib\\site-packages (from cookiecutter->mesa==0.8.7) (0.4.4)\n",
      "Requirement already satisfied: Jinja2<4.0.0,>=2.7 in c:\\programdata\\anaconda3\\lib\\site-packages (from cookiecutter->mesa==0.8.7) (3.1.2)\n",
      "Requirement already satisfied: poyo>=0.5.0 in c:\\programdata\\anaconda3\\lib\\site-packages (from cookiecutter->mesa==0.8.7) (0.5.0)\n",
      "Requirement already satisfied: jinja2-time>=0.2.0 in c:\\programdata\\anaconda3\\lib\\site-packages (from cookiecutter->mesa==0.8.7) (0.2.0)\n",
      "Requirement already satisfied: python-slugify>=4.0.0 in c:\\programdata\\anaconda3\\lib\\site-packages (from cookiecutter->mesa==0.8.7) (5.0.2)\n",
      "Requirement already satisfied: requests>=2.23.0 in c:\\programdata\\anaconda3\\lib\\site-packages (from cookiecutter->mesa==0.8.7) (2.31.0)\n",
      "Requirement already satisfied: six>=1.10 in c:\\programdata\\anaconda3\\lib\\site-packages (from cookiecutter->mesa==0.8.7) (1.16.0)\n",
      "Requirement already satisfied: python-dateutil>=2.8.2 in c:\\programdata\\anaconda3\\lib\\site-packages (from pandas->mesa==0.8.7) (2.8.2)\n",
      "Requirement already satisfied: pytz>=2020.1 in c:\\programdata\\anaconda3\\lib\\site-packages (from pandas->mesa==0.8.7) (2023.3.post1)\n",
      "Requirement already satisfied: tzdata>=2022.1 in c:\\programdata\\anaconda3\\lib\\site-packages (from pandas->mesa==0.8.7) (2023.3)\n",
      "Requirement already satisfied: chardet>=3.0.2 in c:\\programdata\\anaconda3\\lib\\site-packages (from binaryornot>=0.4.4->cookiecutter->mesa==0.8.7) (4.0.0)\n",
      "Requirement already satisfied: MarkupSafe>=2.0 in c:\\programdata\\anaconda3\\lib\\site-packages (from Jinja2<4.0.0,>=2.7->cookiecutter->mesa==0.8.7) (2.1.1)\n",
      "Requirement already satisfied: arrow in c:\\programdata\\anaconda3\\lib\\site-packages (from jinja2-time>=0.2.0->cookiecutter->mesa==0.8.7) (1.2.3)\n",
      "Requirement already satisfied: text-unidecode>=1.3 in c:\\programdata\\anaconda3\\lib\\site-packages (from python-slugify>=4.0.0->cookiecutter->mesa==0.8.7) (1.3)\n",
      "Requirement already satisfied: charset-normalizer<4,>=2 in c:\\programdata\\anaconda3\\lib\\site-packages (from requests>=2.23.0->cookiecutter->mesa==0.8.7) (2.0.4)\n",
      "Requirement already satisfied: idna<4,>=2.5 in c:\\programdata\\anaconda3\\lib\\site-packages (from requests>=2.23.0->cookiecutter->mesa==0.8.7) (3.4)\n",
      "Requirement already satisfied: urllib3<3,>=1.21.1 in c:\\programdata\\anaconda3\\lib\\site-packages (from requests>=2.23.0->cookiecutter->mesa==0.8.7) (1.26.16)\n",
      "Requirement already satisfied: certifi>=2017.4.17 in c:\\programdata\\anaconda3\\lib\\site-packages (from requests>=2.23.0->cookiecutter->mesa==0.8.7) (2024.6.2)\n"
     ]
    }
   ],
   "execution_count": 9
  },
  {
   "cell_type": "code",
   "id": "95469335",
   "metadata": {
    "ExecuteTime": {
     "end_time": "2024-06-21T21:40:02.998981Z",
     "start_time": "2024-06-21T21:38:13.496171Z"
    }
   },
   "source": [
    "import numpy as np\n",
    "import pandas as pd\n",
    "import matplotlib.pyplot as plt\n",
    "from mesa.batchrunner import BatchRunner\n",
    "from Environment import SIERDModel\n",
    "\n",
    "class CustomBatchRunner(BatchRunner):\n",
    "    def run_model(self, model):\n",
    "        for _ in range(self.max_steps):\n",
    "            model.step()\n",
    "\n",
    "# Define variables and bounds\n",
    "problem = {\n",
    "    'num_vars': 7,\n",
    "    'names': ['transmission_rate', 'latency_period', 'infection_duration', 'recovery_rate', 'density', 'initial_infected', 'num_districts'],\n",
    "    'bounds': [[0.1, 1.0], [1, 30], [1, 60], [0.0, 1.0], [0.1, 1.0], [1, 50], [1, 10]]\n",
    "}\n",
    "\n",
    "# Set repetitions, steps, and distinct values per variable\n",
    "replicates = 2\n",
    "max_steps = 500\n",
    "distinct_samples = 10\n",
    "\n",
    "# Default density value\n",
    "default_density = 0.9\n",
    "\n",
    "# Calculate total number of agents based on default density\n",
    "width = 10\n",
    "height = 10\n",
    "total_agents = width * height * default_density\n",
    "\n",
    "# Correcting model_reporters to pass the correct arguments\n",
    "model_reporters = {\n",
    "    \"Susceptible\": lambda m: m.count_state(m, \"Susceptible\"),\n",
    "    \"Exposed\": lambda m: m.count_state(m, \"Exposed\"),\n",
    "    \"Infected\": lambda m: m.count_state(m, \"Infected\"),\n",
    "    \"Recovered\": lambda m: m.count_state(m, \"Recovered\"),\n",
    "    \"Dead\": lambda m: m.count_state(m, \"Dead\")\n",
    "}\n",
    "\n",
    "data = {}\n",
    "\n",
    "for i, var in enumerate(problem['names']):\n",
    "    samples = np.linspace(*problem['bounds'][i], num=distinct_samples)\n",
    "    \n",
    "    if var in ['latency_period', 'infection_duration', 'initial_infected']:\n",
    "        samples = np.linspace(*problem['bounds'][i], num=distinct_samples, dtype=int)\n",
    "    \n",
    "    variable_parameters = {var: samples.tolist()}\n",
    "    fixed_parameters = {\n",
    "        \"width\": width,\n",
    "        \"height\": height,\n",
    "        \"density\": default_density,\n",
    "        \"transmission_rate\": 0.6,\n",
    "        \"latency_period\": 5,\n",
    "        \"infection_duration\": 10,\n",
    "        \"recovery_rate\": 0.3,\n",
    "        \"policy\": \"Mayor\",\n",
    "        \"num_districts\": 5,\n",
    "        \"initial_infected\": 10\n",
    "    }\n",
    "\n",
    "    # Ensure the specific variable parameter is updated in fixed_parameters\n",
    "    if var in fixed_parameters:\n",
    "        del fixed_parameters[var]\n",
    "    \n",
    "    batch = CustomBatchRunner(\n",
    "        SIERDModel,\n",
    "        max_steps=max_steps,\n",
    "        iterations=replicates,\n",
    "        variable_parameters=variable_parameters,\n",
    "        fixed_parameters=fixed_parameters,\n",
    "        model_reporters=model_reporters\n",
    "    )\n",
    "    \n",
    "    batch.run_all()\n",
    "    \n",
    "    data[var] = batch.get_model_vars_dataframe()\n",
    "\n",
    "# Plotting function for the current variable\n",
    "def plot_current_var(df_dict, var, total_agents):\n",
    "    f, axs = plt.subplots(len(model_reporters), figsize=(10, 15))\n",
    "    for i, (param, _) in enumerate(model_reporters.items()):\n",
    "        # Ensure to group by the variable of interest\n",
    "        grouped = df_dict.groupby(var)\n",
    "\n",
    "        # Compute mean and standard error, only for numeric columns\n",
    "        mean_df = grouped.mean(numeric_only=True).reset_index()\n",
    "        std_df = grouped.std(numeric_only=True).reset_index()\n",
    "        count_df = grouped[param].count().reset_index()\n",
    "\n",
    "        x = mean_df[var]\n",
    "        y = mean_df[param]\n",
    "\n",
    "        replicates = count_df[param]\n",
    "        err = (1.96 * std_df[param]) / np.sqrt(replicates)\n",
    "\n",
    "        axs[i].plot(x, y, c='k')\n",
    "        axs[i].fill_between(x, y - err, y + err, color='gray', alpha=0.2)\n",
    "\n",
    "        axs[i].set_xlabel(var)\n",
    "        axs[i].set_ylabel(param)\n",
    "        axs[i].set_ylim(bottom=-0.1 * total_agents, top=total_agents)  # Ensure y-axis starts just below zero and ends at total agents\n",
    "        axs[i].set_title(f'{param} vs {var}')\n",
    "    \n",
    "    plt.tight_layout()\n",
    "    plt.show()\n",
    "\n",
    "# Plot for each variable\n",
    "for var in problem['names']:\n",
    "    plot_current_var(data[var], var, total_agents)"
   ],
   "outputs": [
    {
     "name": "stderr",
     "output_type": "stream",
     "text": [
      "20it [00:18,  1.06it/s]\n",
      "20it [00:19,  1.05it/s]\n",
      "20it [00:19,  1.02it/s]\n",
      "20it [00:20,  1.02s/it]\n",
      "20it [00:12,  1.62it/s]\n",
      "20it [00:19,  1.04it/s]\n",
      "0it [00:00, ?it/s]\n"
     ]
    },
    {
     "ename": "TypeError",
     "evalue": "'float' object cannot be interpreted as an integer",
     "output_type": "error",
     "traceback": [
      "\u001B[1;31m---------------------------------------------------------------------------\u001B[0m",
      "\u001B[1;31mTypeError\u001B[0m                                 Traceback (most recent call last)",
      "Cell \u001B[1;32mIn[10], line 76\u001B[0m\n\u001B[0;32m     65\u001B[0m         \u001B[38;5;28;01mdel\u001B[39;00m fixed_parameters[var]\n\u001B[0;32m     67\u001B[0m     batch \u001B[38;5;241m=\u001B[39m CustomBatchRunner(\n\u001B[0;32m     68\u001B[0m         SIERDModel,\n\u001B[0;32m     69\u001B[0m         max_steps\u001B[38;5;241m=\u001B[39mmax_steps,\n\u001B[1;32m   (...)\u001B[0m\n\u001B[0;32m     73\u001B[0m         model_reporters\u001B[38;5;241m=\u001B[39mmodel_reporters\n\u001B[0;32m     74\u001B[0m     )\n\u001B[1;32m---> 76\u001B[0m     batch\u001B[38;5;241m.\u001B[39mrun_all()\n\u001B[0;32m     78\u001B[0m     data[var] \u001B[38;5;241m=\u001B[39m batch\u001B[38;5;241m.\u001B[39mget_model_vars_dataframe()\n\u001B[0;32m     80\u001B[0m \u001B[38;5;66;03m# Plotting function for the current variable\u001B[39;00m\n",
      "File \u001B[1;32mC:\\ProgramData\\anaconda3\\Lib\\site-packages\\mesa\\batchrunner.py:158\u001B[0m, in \u001B[0;36mFixedBatchRunner.run_all\u001B[1;34m(self)\u001B[0m\n\u001B[0;32m    156\u001B[0m param_values \u001B[38;5;241m=\u001B[39m all_param_values[i]\n\u001B[0;32m    157\u001B[0m \u001B[38;5;28;01mfor\u001B[39;00m _ \u001B[38;5;129;01min\u001B[39;00m \u001B[38;5;28mrange\u001B[39m(\u001B[38;5;28mself\u001B[39m\u001B[38;5;241m.\u001B[39miterations):\n\u001B[1;32m--> 158\u001B[0m     \u001B[38;5;28mself\u001B[39m\u001B[38;5;241m.\u001B[39mrun_iteration(kwargs, param_values, \u001B[38;5;28mnext\u001B[39m(run_count))\n\u001B[0;32m    159\u001B[0m     pbar\u001B[38;5;241m.\u001B[39mupdate()\n",
      "File \u001B[1;32mC:\\ProgramData\\anaconda3\\Lib\\site-packages\\mesa\\batchrunner.py:163\u001B[0m, in \u001B[0;36mFixedBatchRunner.run_iteration\u001B[1;34m(self, kwargs, param_values, run_count)\u001B[0m\n\u001B[0;32m    161\u001B[0m \u001B[38;5;28;01mdef\u001B[39;00m \u001B[38;5;21mrun_iteration\u001B[39m(\u001B[38;5;28mself\u001B[39m, kwargs, param_values, run_count):\n\u001B[0;32m    162\u001B[0m     kwargscopy \u001B[38;5;241m=\u001B[39m copy\u001B[38;5;241m.\u001B[39mdeepcopy(kwargs)\n\u001B[1;32m--> 163\u001B[0m     model \u001B[38;5;241m=\u001B[39m \u001B[38;5;28mself\u001B[39m\u001B[38;5;241m.\u001B[39mmodel_cls(\u001B[38;5;241m*\u001B[39m\u001B[38;5;241m*\u001B[39mkwargscopy)\n\u001B[0;32m    164\u001B[0m     \u001B[38;5;28mself\u001B[39m\u001B[38;5;241m.\u001B[39mrun_model(model)\n\u001B[0;32m    166\u001B[0m     \u001B[38;5;66;03m# Collect and store results:\u001B[39;00m\n",
      "File \u001B[1;32m~\\Downloads\\Epi-Simulator-Simulator-Product\\Simulator\\Environment.py:54\u001B[0m, in \u001B[0;36mSIERDModel.__init__\u001B[1;34m(self, width, height, density, transmission_rate, latency_period, infection_duration, recovery_rate, policy, num_districts, initial_infected, mask_policy, lockdown)\u001B[0m\n\u001B[0;32m     51\u001B[0m \u001B[38;5;28;01melse\u001B[39;00m:\n\u001B[0;32m     52\u001B[0m     \u001B[38;5;28mself\u001B[39m\u001B[38;5;241m.\u001B[39mmayor \u001B[38;5;241m=\u001B[39m \u001B[38;5;28;01mNone\u001B[39;00m\n\u001B[1;32m---> 54\u001B[0m \u001B[38;5;28mself\u001B[39m\u001B[38;5;241m.\u001B[39mdistricts \u001B[38;5;241m=\u001B[39m \u001B[38;5;28mself\u001B[39m\u001B[38;5;241m.\u001B[39mcreate_districts(num_districts, width, height)\n\u001B[0;32m     55\u001B[0m \u001B[38;5;28mself\u001B[39m\u001B[38;5;241m.\u001B[39mlockdown_areas \u001B[38;5;241m=\u001B[39m \u001B[38;5;28mset\u001B[39m()\n\u001B[0;32m     57\u001B[0m \u001B[38;5;66;03m# Initialize agents\u001B[39;00m\n",
      "File \u001B[1;32m~\\Downloads\\Epi-Simulator-Simulator-Product\\Simulator\\Environment.py:103\u001B[0m, in \u001B[0;36mSIERDModel.create_districts\u001B[1;34m(self, num_districts, width, height)\u001B[0m\n\u001B[0;32m    101\u001B[0m districts \u001B[38;5;241m=\u001B[39m {}\n\u001B[0;32m    102\u001B[0m step \u001B[38;5;241m=\u001B[39m width \u001B[38;5;241m/\u001B[39m\u001B[38;5;241m/\u001B[39m num_districts\n\u001B[1;32m--> 103\u001B[0m \u001B[38;5;28;01mfor\u001B[39;00m i \u001B[38;5;129;01min\u001B[39;00m \u001B[38;5;28mrange\u001B[39m(num_districts):\n\u001B[0;32m    104\u001B[0m     \u001B[38;5;28;01mfor\u001B[39;00m j \u001B[38;5;129;01min\u001B[39;00m \u001B[38;5;28mrange\u001B[39m(num_districts):\n\u001B[0;32m    105\u001B[0m         district_id \u001B[38;5;241m=\u001B[39m i \u001B[38;5;241m*\u001B[39m num_districts \u001B[38;5;241m+\u001B[39m j\n",
      "\u001B[1;31mTypeError\u001B[0m: 'float' object cannot be interpreted as an integer"
     ]
    }
   ],
   "execution_count": 10
  },
  {
   "cell_type": "code",
   "id": "2a116a7e",
   "metadata": {},
   "source": [],
   "outputs": [],
   "execution_count": null
  }
 ],
 "metadata": {
  "kernelspec": {
   "display_name": "Python 3 (ipykernel)",
   "language": "python",
   "name": "python3"
  },
  "language_info": {
   "codemirror_mode": {
    "name": "ipython",
    "version": 3
   },
   "file_extension": ".py",
   "mimetype": "text/x-python",
   "name": "python",
   "nbconvert_exporter": "python",
   "pygments_lexer": "ipython3",
   "version": "3.11.4"
  }
 },
 "nbformat": 4,
 "nbformat_minor": 5
}
