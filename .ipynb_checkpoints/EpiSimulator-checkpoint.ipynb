{
 "cells": [
  {
   "cell_type": "markdown",
   "id": "0109a894-d70a-4d65-9c29-b1a72b1de024",
   "metadata": {},
   "source": [
    "# Environment Setup\n",
    "## City Overview\n",
    "Simulate a virtual city with a population of 500,000. The city is divided into 12 administration districts, each containing a number of sub-regions (cells). These sub-regions are randomly assigned as work locations, education facilities, social places, and residential areas.\n",
    "\n",
    "## City Structure\n",
    "* Total Cells: 1,000,000.\n",
    "* Total Population: 500,000.\n",
    "* Number of Administrative Districts: 12\n",
    "\n",
    "## Location Distribution\n",
    "Within the 1,000,000 cells, the distribution of different types of locations:\n",
    "* Work Locations: Some cells will be randomly designated as work locations.\n",
    "* Education Facilities: Some cells will be randomly designated as schools.\n",
    "* Social Places: Additional cells will be randomly designated as social places, such as parks, cafes, shopping malls, etc.\n",
    "* Residential Areas: The remaining cells will be designated as residential areas.\n",
    "\n",
    "## Daily Time Point\n",
    "The simulation will include three key time points each dat:\n",
    "* Morning: Agents travel to work, school, or other daily activities\n",
    "* Evening: Agents return home or visit social places\n",
    "* Night: Agents stay at home resting"
   ]
  },
  {
   "cell_type": "code",
   "execution_count": null,
   "id": "66c7076c-f879-4a29-966e-3e0cb0b50c79",
   "metadata": {},
   "outputs": [],
   "source": []
  },
  {
   "cell_type": "markdown",
   "id": "1f93f74f-f002-4472-b7ac-cbbb0f3ecc50",
   "metadata": {},
   "source": [
    "# Virus Description\n",
    "The spread of the virus within the simulation is defined by several parameters, such as:\n",
    "* Transmission Rate\n",
    "* Latency Period\n",
    "* Infection Duration: Recovery Rate, Death Rate\n",
    "* ......"
   ]
  },
  {
   "cell_type": "code",
   "execution_count": null,
   "id": "e6d72ce5-03d8-4055-85fa-3356b898de9f",
   "metadata": {},
   "outputs": [],
   "source": []
  },
  {
   "cell_type": "markdown",
   "id": "598309aa-6c26-4c24-a791-3579a98231f1",
   "metadata": {},
   "source": [
    "# Agent Description\n",
    "## Agent Attributes\n",
    "Each agent in the simulation will have the following attributes:\n",
    "\n",
    "### 1. Age:\n",
    "* Represents the age of the agent, affecting their behavior, occupation and risk of severe disease.\n",
    "\n",
    "### 2. Occupation:\n",
    "Defines the agents's primary daily activity and location. Occupations include student, worker, retiree, etc.\n",
    "\n",
    "### 3. Health Status (SEIRD):\n",
    "* Susceptible (S): The agent is healthy but can become infected\n",
    "* Exposed (E): The agent has been exposed to the virus, but it is not yet infectious\n",
    "* Infected (I): The agent is infected and can spread the virus\n",
    "* Recovered (R): The agent has recovered from the infection and is immune\n",
    "* Deceased (D): The agent has died from the infection.\n",
    "\n",
    "### 4. Mask Wearing Status:\n",
    "* Whether the agent is currently wearing a mask (yes/no)\n",
    "\n",
    "### 5. Compilance Level with Lockdown Policies:\n",
    "* Measures how strictly the agent follows lockdown and social distancing guidelines (as probabilities)\n",
    "\n",
    "## Memory\n",
    "Agents have the capability to remeber certain types of information:\n",
    "* Health Status Changes:\n",
    "  Agents can remeber their past health status, that interferes their choices for making traveling decisions, mask-wearing and compilance with lockdown policies\n",
    "* Social Interactions:  \n",
    "  Agents can record their social interactions, close contacts may lead to infection\n",
    "* Environmental Information:\n",
    "  Agents can retain information about the environment, such as the severity of outbreaks in specific areas, helping them make decisions about their movements and interacitons.\n",
    "\n",
    "## Learning\n",
    "Agents can adapt their behavior based on past experience and acquired knowledge:\n",
    "* Behavioral Adjustment:\n",
    "* Risk Adjustment:"
   ]
  },
  {
   "cell_type": "code",
   "execution_count": null,
   "id": "91eabaa2-d57e-43d4-8abc-61a29f6c1f9d",
   "metadata": {},
   "outputs": [],
   "source": []
  },
  {
   "cell_type": "markdown",
   "id": "6244ce6b-db14-4144-a823-1ded6d543c13",
   "metadata": {},
   "source": [
    "## Agent Behavior Descriptions\n",
    "### 1. Daily Activities:\n",
    "    Agents follow a daily routine that involves going to work, school, or engaging in social activities. These routine vary depending on the agent's occupation and age group. The nature of activities change throughout different times of the day, include morning, evening and night.\n",
    "\n",
    "### 2. Social Interactions:\n",
    "    Agents engage in face-to-face interactions with other agents throughout the day. These interactions occur at work, school, social places and within residential areas.\n",
    "\n",
    "### 3. Mask-Wearing Behavior:\n",
    "    Agents decide whether to wear masks based on their health status, perceived risk, and compliance level.\n",
    "\n",
    "### 4. Lockdown Policies:\n",
    "    Agents' behavior is influenced by lockdown policies in place, such as movement restrictions and lockdowns."
   ]
  },
  {
   "cell_type": "code",
   "execution_count": null,
   "id": "742bf812-8d64-4b65-8d63-f611dba3dbc7",
   "metadata": {},
   "outputs": [],
   "source": []
  },
  {
   "cell_type": "markdown",
   "id": "3c56df17-51d8-4e80-be5f-1f63269fb4e3",
   "metadata": {},
   "source": [
    "## SIERD Model\n",
    "* Susceptible: These agents have not yet been infected with the virus but are at risk of becoming infected  \n",
    "* Exposed: These agents have been exposed to the virus and are infected, but are not yet infectious to others  \n",
    "* Infected: These agents are currently infected and are capable of transmitting the virus to susceptible individuals    \n",
    "* Recovered: These agents have recovered from the infection and are typically assumed to have immunity    \n",
    "* Dead: These agents have died as a result of the infection"
   ]
  },
  {
   "cell_type": "code",
   "execution_count": null,
   "id": "5228b17c-f6f7-41a2-841f-ae68cf7cf9ae",
   "metadata": {},
   "outputs": [],
   "source": []
  },
  {
   "cell_type": "markdown",
   "id": "4ab073b8-01a9-4917-b2e0-32bbae22b959",
   "metadata": {},
   "source": [
    "## Rules\n",
    "### 1. Infection Spread Rules:\n",
    "* When an infected agent comes into contact with a susceptible agent, there is a probability of virus transmission\n",
    "* The probability of transmission may increase when a susceptible agent comes into contact with multiple infected agents\n",
    "### 2. Social Interaction Rules:\n",
    "* Agents’ social behavior may be influenced by their infection status and the surrounding environment. For example, during outbreaks, agents may be  more inclined to avoid crowded areas or maintain social distancing.\n",
    "### 3. Government Intervention Rules:\n",
    "* Government may implement control measures such as lockdowns, mask-wearing policies travel to slow down virus spread."
   ]
  },
  {
   "cell_type": "code",
   "execution_count": null,
   "id": "f5bcb689-9dbe-47b0-a607-fcbc67ead6a1",
   "metadata": {},
   "outputs": [],
   "source": []
  },
  {
   "cell_type": "markdown",
   "id": "77c2ee54-5ce5-453b-ac55-f9fd701ef8d2",
   "metadata": {},
   "source": [
    "# Government Policies\n",
    "* No Interventions\n",
    "* Lockdown Only\n",
    "* Mask Policy Only\n",
    "* Combination of Lockdown and Mask Policy"
   ]
  }
 ],
 "metadata": {
  "kernelspec": {
   "display_name": "Python 3 (ipykernel)",
   "language": "python",
   "name": "python3"
  },
  "language_info": {
   "codemirror_mode": {
    "name": "ipython",
    "version": 3
   },
   "file_extension": ".py",
   "mimetype": "text/x-python",
   "name": "python",
   "nbconvert_exporter": "python",
   "pygments_lexer": "ipython3",
   "version": "3.8.19"
  }
 },
 "nbformat": 4,
 "nbformat_minor": 5
}
